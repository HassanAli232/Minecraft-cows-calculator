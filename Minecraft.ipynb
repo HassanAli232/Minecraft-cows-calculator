{
 "cells": [
  {
   "cell_type": "code",
   "execution_count": 16,
   "metadata": {},
   "outputs": [
    {
     "name": "stdout",
     "output_type": "stream",
     "text": [
      "Enter how many adult cows you have: j\n",
      "Please, enter an integer more than 1.\n",
      "Enter how many adult cows you have: 9\n",
      "Enter the total cows you need: 9\n",
      "\n",
      "\n",
      "Required days: 0 days\n",
      "Total minutes in real life: 0 mins\n",
      "\n",
      "Required wheat: 0 wheat\n",
      "\n",
      "Total cows: 9 cows >> 9 Adult cows and 0 baby cows.\n",
      "\n"
     ]
    }
   ],
   "source": [
    "def main():\n",
    "    \n",
    "    cows = input(\"Enter how many adult cows you have: \")\n",
    "    \n",
    "    while not cows.isdigit() or int(cows) < 1:\n",
    "        print(\"Please, enter an integer more than 1.\")\n",
    "        cows = input(\"Enter how many adult cows you have: \")\n",
    "    \n",
    "    requiredCows = input(\"Enter the total cows you need: \")\n",
    "    \n",
    "    while not requiredCows.isdigit() or int(requiredCows) < int(cows):\n",
    "        print(\"Please, enter an integer more than the cows you have.\")\n",
    "        requiredCows = input(\"Enter the total cows you need: \")\n",
    "    \n",
    "    cowsDetails(int(requiredCows),int(cows))\n",
    "    \n",
    "    \n",
    "\n",
    "def cowsDetails(requiredCows, cows):\n",
    "    \n",
    "    # initializing variables.\n",
    "    TO_GROW_UP = 2 #two days for babies to become adults.\n",
    "    DAY_IN_REAL = 10 # 10 min in real life = one day in minecraft.\n",
    "    requiredDays = 0\n",
    "    requiredWheat = 0\n",
    "    babies = []\n",
    "    \n",
    "    while cows + sum(babies) < requiredCows:\n",
    "        \n",
    "        #for babies when they become adults.\n",
    "        if requiredDays != 0 and requiredDays % 2 == 0:\n",
    "            cows += babies[0]\n",
    "            babies.pop(0)\n",
    "            \n",
    "            \n",
    "        # calculating the wheat.\n",
    "        if cows % 2 == 0:\n",
    "            requiredWheat += cows\n",
    "        else:\n",
    "            requiredWheat += cows - 1\n",
    "        \n",
    "        \n",
    "        babies.append(cows // 2)\n",
    "        requiredDays += 1\n",
    "    \n",
    "    # Results. \n",
    "    print(f\"\\n\\nRequired days: {requiredDays} days\")\n",
    "    print(f\"Total minutes in real life: {requiredDays * DAY_IN_REAL} mins\")\n",
    "    print(f\"\\nRequired wheat: {requiredWheat} wheat\")\n",
    "    print(f\"\\nTotal cows: {cows + sum(babies)} cows >> {cows} Adult cows and {sum(babies)} baby cows.\\n\")\n",
    "    \n",
    "    \n",
    "main()"
   ]
  }
 ],
 "metadata": {
  "kernelspec": {
   "display_name": "Python 3",
   "language": "python",
   "name": "python3"
  },
  "language_info": {
   "codemirror_mode": {
    "name": "ipython",
    "version": 3
   },
   "file_extension": ".py",
   "mimetype": "text/x-python",
   "name": "python",
   "nbconvert_exporter": "python",
   "pygments_lexer": "ipython3",
   "version": "3.8.5"
  },
  "toc": {
   "base_numbering": 1,
   "nav_menu": {},
   "number_sections": true,
   "sideBar": true,
   "skip_h1_title": false,
   "title_cell": "Table of Contents",
   "title_sidebar": "Contents",
   "toc_cell": false,
   "toc_position": {},
   "toc_section_display": true,
   "toc_window_display": false
  }
 },
 "nbformat": 4,
 "nbformat_minor": 5
}
